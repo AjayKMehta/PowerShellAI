{
 "cells": [
  {
   "attachments": {},
   "cell_type": "markdown",
   "metadata": {
    "dotnet_interactive": {
     "language": "csharp"
    },
    "polyglot_notebook": {
     "kernelName": "csharp"
    }
   },
   "source": [
    "# Error Insights\n",
    "\n",
    "Some PowerShell errors are pretty vague so this function can take the details from the last error record and send them to ChatGPT to make sense of them.  "
   ]
  },
  {
   "cell_type": "code",
   "execution_count": 97,
   "metadata": {
    "dotnet_interactive": {
     "language": "pwsh"
    },
    "polyglot_notebook": {
     "kernelName": "pwsh"
    },
    "vscode": {
     "languageId": "polyglot-notebook"
    }
   },
   "outputs": [],
   "source": [
    "# Load the error insights function, this requires you to already have PowerShellAI installed\n",
    ". .\\ErrorInsights.ps1"
   ]
  },
  {
   "cell_type": "code",
   "execution_count": 5,
   "metadata": {
    "dotnet_interactive": {
     "language": "pwsh"
    },
    "polyglot_notebook": {
     "kernelName": "pwsh"
    },
    "vscode": {
     "languageId": "polyglot-notebook"
    }
   },
   "outputs": [],
   "source": [
    "# Load your OpenAPI key into the session for PowerShellAI if not already set\n",
    "if (!$env:OpenAIKey) {\n",
    "    $env:OpenAIKey = Read-Host \"Enter your OpenAIKey\"\n",
    "}"
   ]
  },
  {
   "attachments": {},
   "cell_type": "markdown",
   "metadata": {
    "dotnet_interactive": {
     "language": "pwsh"
    },
    "polyglot_notebook": {
     "kernelName": "pwsh"
    }
   },
   "source": [
    "### Example 1 - HTTP Errors\n",
    "\n",
    "Web errors are often buried in an exception object. Rather than digging around just send it into the AI with Get-ErrorInsights to get a response similar to below:\n",
    "\n",
    "```\n",
    "WebCmdletWebResponseException,Microsoft.PowerShell.Commands.InvokeRestMethodCommand\n",
    "Response status code does not indicate success: 429 (Too Many Requests).\n",
    "\n",
    "This PowerShell error occurs when a user has exceeded the rate limit of requests to a web service. This is usually due to making too many requests in a short period of time. A potential solution is to use the Start-Sleep cmdlet to pause the script for a few seconds between requests. This will allow the web service to process the requests without exceeding the rate limit. For example:\n",
    "\n",
    "Invoke-RestMethod -Uri $url\n",
    "Start-Sleep -Seconds 5\n",
    "Invoke-RestMethod -Uri $url\n",
    "```"
   ]
  },
  {
   "cell_type": "code",
   "execution_count": 98,
   "metadata": {
    "dotnet_interactive": {
     "language": "pwsh"
    },
    "polyglot_notebook": {
     "kernelName": "pwsh"
    },
    "vscode": {
     "languageId": "polyglot-notebook"
    }
   },
   "outputs": [
    {
     "name": "stdout",
     "output_type": "stream",
     "text": [
      "\u001b[31;1mInvoke-RestMethod: \u001b[0m\n",
      "\u001b[31;1m\u001b[36;1mLine |\u001b[0m\n",
      "\u001b[31;1m\u001b[36;1m\u001b[36;1m   2 | \u001b[0m \u001b[36;1mInvoke-RestMethod \"https://postman-echo.com/status/429\"\u001b[0m\n",
      "\u001b[31;1m\u001b[36;1m\u001b[36;1m\u001b[0m\u001b[36;1m\u001b[0m\u001b[36;1m     | \u001b[31;1m ~~~~~~~~~~~~~~~~~~~~~~~~~~~~~~~~~~~~~~~~~~~~~~~~~~~~~~~\u001b[0m\n",
      "\u001b[31;1m\u001b[36;1m\u001b[36;1m\u001b[0m\u001b[36;1m\u001b[0m\u001b[36;1m\u001b[31;1m\u001b[31;1m\u001b[36;1m     | \u001b[31;1m{\u001b[0m\n",
      "\u001b[31;1m\u001b[36;1m\u001b[36;1m\u001b[0m\u001b[36;1m\u001b[0m\u001b[36;1m\u001b[31;1m\u001b[31;1m\u001b[36;1m\u001b[31;1m  \"status\": 429\u001b[0m\n",
      "\u001b[31;1m\u001b[36;1m\u001b[36;1m\u001b[0m\u001b[36;1m\u001b[0m\u001b[36;1m\u001b[31;1m\u001b[31;1m\u001b[36;1m\u001b[31;1m}\u001b[0m\n"
     ]
    }
   ],
   "source": [
    "# Throw an error\n",
    "Invoke-RestMethod \"https://postman-echo.com/status/429\""
   ]
  },
  {
   "cell_type": "code",
   "execution_count": 99,
   "metadata": {
    "dotnet_interactive": {
     "language": "pwsh"
    },
    "polyglot_notebook": {
     "kernelName": "pwsh"
    },
    "vscode": {
     "languageId": "polyglot-notebook"
    }
   },
   "outputs": [
    {
     "name": "stdout",
     "output_type": "stream",
     "text": [
      "\u001b[96mWebCmdletWebResponseException,Microsoft.PowerShell.Commands.InvokeRestMethodCommand\n",
      "Response status code does not indicate success: 429 (Too Many Requests).\n",
      "\u001b[0m\n",
      "\u001b[90mThis PowerShell error occurs when a user has exceeded the rate limit of requests to a web service. This is usually due to making too many requests in a short period of time. A potential solution is to use the Start-Sleep cmdlet to pause the script for a few seconds between requests. This will allow the web service to process the requests without exceeding the rate limit. For example:\n",
      "\n",
      "Invoke-RestMethod -Uri $url\n",
      "Start-Sleep -Seconds 5\n",
      "Invoke-RestMethod -Uri $url\u001b[0m\n"
     ]
    }
   ],
   "source": [
    "Get-ErrorInsights"
   ]
  },
  {
   "attachments": {},
   "cell_type": "markdown",
   "metadata": {
    "dotnet_interactive": {
     "language": "pwsh"
    },
    "polyglot_notebook": {
     "kernelName": "pwsh"
    }
   },
   "source": [
    "### Example 2 - Fixed Size Collections\n",
    "\n",
    "An example of trying to modify a fixed size collection.\n",
    "\n",
    "```\n",
    "NotSupportedException\n",
    "Exception calling \"Add\" with \"1\" argument(s): \"Collection was of a fixed size.\"\n",
    "\n",
    "This error occurs when attempting to add an item to a collection that has a fixed size. This means that the collection cannot be modified and any attempts to add, remove, or modify items will result in this error.\n",
    "\n",
    "A potential solution is to create a new collection with a larger size and then add the item to the new collection. This can be done using the following PowerShell code:\n",
    "\n",
    "$newCollection = [System.Collections.ArrayList]::new(<size>)\n",
    "$newCollection.Add(<item>)\n",
    "```"
   ]
  },
  {
   "cell_type": "code",
   "execution_count": 104,
   "metadata": {
    "dotnet_interactive": {
     "language": "pwsh"
    },
    "polyglot_notebook": {
     "kernelName": "pwsh"
    },
    "vscode": {
     "languageId": "polyglot-notebook"
    }
   },
   "outputs": [
    {
     "name": "stdout",
     "output_type": "stream",
     "text": [
      "\u001b[31;1mGet-EC2Instance: \u001b[0m\n",
      "\u001b[31;1m\u001b[36;1mLine |\u001b[0m\n",
      "\u001b[31;1m\u001b[36;1m\u001b[36;1m   6 | \u001b[0m \u001b[36;1mGet-EC2Instance\u001b[0m\n",
      "\u001b[31;1m\u001b[36;1m\u001b[36;1m\u001b[0m\u001b[36;1m\u001b[0m\u001b[36;1m     | \u001b[31;1m ~~~~~~~~~~~~~~~\u001b[0m\n",
      "\u001b[31;1m\u001b[36;1m\u001b[36;1m\u001b[0m\u001b[36;1m\u001b[0m\u001b[36;1m\u001b[31;1m\u001b[31;1m\u001b[36;1m     | \u001b[31;1mRequest has expired.\u001b[0m\n"
     ]
    }
   ],
   "source": [
    "# Use a missing commandlet\n",
    "#$array = @(\"abc\", \"def\")\n",
    "#$array.Add(\"ghi\")\n",
    "Get-EC2Instance"
   ]
  },
  {
   "cell_type": "code",
   "execution_count": 105,
   "metadata": {
    "vscode": {
     "languageId": "polyglot-notebook"
    }
   },
   "outputs": [
    {
     "ename": "Error",
     "evalue": "(1,1): error CS0103: The name 'Get' does not exist in the current context\r\n(1,5): error CS0103: The name 'ErrorInsights' does not exist in the current context",
     "output_type": "error",
     "traceback": [
      "(1,1): error CS0103: The name 'Get' does not exist in the current context\r\n",
      "(1,5): error CS0103: The name 'ErrorInsights' does not exist in the current context"
     ]
    }
   ],
   "source": [
    "Get-ErrorInsights"
   ]
  }
 ],
 "metadata": {
  "kernelspec": {
   "display_name": ".NET (C#)",
   "language": "C#",
   "name": ".net-csharp"
  },
  "polyglot_notebook": {
   "kernelInfo": {
    "defaultKernelName": "csharp",
    "items": [
     {
      "aliases": [
       "c#",
       "C#"
      ],
      "languageName": "C#",
      "name": "csharp"
     },
     {
      "aliases": [
       "frontend"
      ],
      "languageName": null,
      "name": "vscode"
     },
     {
      "aliases": [],
      "languageName": null,
      "name": "value"
     }
    ]
   }
  }
 },
 "nbformat": 4,
 "nbformat_minor": 2
}

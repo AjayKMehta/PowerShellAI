{
 "cells": [
  {
   "attachments": {},
   "cell_type": "markdown",
   "metadata": {},
   "source": [
    "Get OpenAI User Information"
   ]
  },
  {
   "cell_type": "code",
   "execution_count": null,
   "metadata": {
    "dotnet_interactive": {
     "language": "pwsh"
    },
    "polyglot_notebook": {
     "kernelName": "pwsh"
    },
    "vscode": {
     "languageId": "polyglot-notebook"
    }
   },
   "outputs": [],
   "source": [
    "$organizationId = '<enter organization id here>'\n",
    "\n",
    "$headers = @{}\n",
    "$headers.Add(\"Authorization\", \"Bearer $env:OpenAIKey\")\n",
    "\n",
    "$reqUrl = ('https://api.openai.com/v1/organizations/{0}/users' -f $organizationId)\n",
    "\n",
    "\n",
    "$response = Invoke-RestMethod -Uri $reqUrl -Method Get -Headers $headers  \n",
    "$response | Convertto-Json -Depth 10"
   ]
  },
  {
   "attachments": {},
   "cell_type": "markdown",
   "metadata": {
    "dotnet_interactive": {
     "language": "pwsh"
    },
    "polyglot_notebook": {
     "kernelName": "pwsh"
    }
   },
   "source": [
    "Get Usage Information"
   ]
  },
  {
   "cell_type": "code",
   "execution_count": null,
   "metadata": {
    "dotnet_interactive": {
     "language": "pwsh"
    },
    "polyglot_notebook": {
     "kernelName": "pwsh"
    },
    "vscode": {
     "languageId": "polyglot-notebook"
    }
   },
   "outputs": [],
   "source": [
    "$startDate = '2023-03-01'\n",
    "$endDate = '2023-04-01'\n",
    "\n",
    "$headers = @{}\n",
    "$headers.Add(\"Authorization\", \"Bearer $env:OpenAIKey\")\n",
    "\n",
    "$reqUrl = ('https://api.openai.com/dashboard/billing/usage?end_date={0}&start_date={1}' -f $endDate, $startDate)\n",
    "\n",
    "\n",
    "$response = Invoke-RestMethod -Uri $reqUrl -Method Get -Headers $headers  \n",
    "$response | ConvertTo-Json"
   ]
  },
  {
   "attachments": {},
   "cell_type": "markdown",
   "metadata": {
    "dotnet_interactive": {
     "language": "pwsh"
    },
    "polyglot_notebook": {
     "kernelName": "pwsh"
    }
   },
   "source": [
    "Get API keys"
   ]
  },
  {
   "cell_type": "code",
   "execution_count": null,
   "metadata": {
    "dotnet_interactive": {
     "language": "pwsh"
    },
    "polyglot_notebook": {
     "kernelName": "pwsh"
    },
    "vscode": {
     "languageId": "polyglot-notebook"
    }
   },
   "outputs": [],
   "source": [
    "$headers = @{}\n",
    "$headers.Add(\"Authorization\", \"Bearer $env:OpenAIKey\")\n",
    "\n",
    "$reqUrl = 'https://api.openai.com/dashboard/user/api_keys'\n",
    "\n",
    "\n",
    "$response = Invoke-RestMethod -Uri $reqUrl -Method Get -Headers $headers  \n",
    "$response | ConvertTo-Json"
   ]
  }
 ],
 "metadata": {
  "kernelspec": {
   "display_name": ".NET (C#)",
   "language": "C#",
   "name": ".net-csharp"
  },
  "polyglot_notebook": {
   "kernelInfo": {
    "defaultKernelName": "csharp",
    "items": [
     {
      "aliases": [
       "c#",
       "C#"
      ],
      "languageName": "C#",
      "name": "csharp"
     },
     {
      "aliases": [
       "frontend"
      ],
      "languageName": null,
      "name": "vscode"
     }
    ]
   }
  }
 },
 "nbformat": 4,
 "nbformat_minor": 2
}

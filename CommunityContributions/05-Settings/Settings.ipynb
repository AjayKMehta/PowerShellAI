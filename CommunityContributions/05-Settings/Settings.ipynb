{
 "cells": [
  {
   "attachments": {},
   "cell_type": "markdown",
   "metadata": {},
   "source": [
    "Get OpenAI User Information"
   ]
  },
  {
   "cell_type": "code",
   "execution_count": 6,
   "metadata": {
    "dotnet_interactive": {
     "language": "pwsh"
    },
    "polyglot_notebook": {
     "kernelName": "pwsh"
    },
    "vscode": {
     "languageId": "polyglot-notebook"
    }
   },
   "outputs": [
    {
     "name": "stdout",
     "output_type": "stream",
     "text": [
      "{\r\n",
      "  \"members\": {\r\n",
      "    \"object\": \"list\",\r\n",
      "    \"data\": [\r\n",
      "      {\r\n",
      "        \"object\": \"organization_user\",\r\n",
      "        \"role\": \"owner\",\r\n",
      "        \"created\": 1673862380,\r\n",
      "        \"user\": {\r\n",
      "          \"object\": \"user\",\r\n",
      "          \"id\": \"user-NHDLTMd6orT3ZcQvcPYvNPnJ\",\r\n",
      "          \"name\": \"Stefan Stranger\",\r\n",
      "          \"email\": \"stefan@stranger.nl\",\r\n",
      "          \"picture\": \"https://lh3.googleusercontent.com/a/AEdFTp7hWu4ETHm38AbJve4j_j2W5mU6fEBDne1Fpu56dg=s96-c\"\r\n",
      "        }\r\n",
      "      }\r\n",
      "    ]\r\n",
      "  },\r\n",
      "  \"invited\": [],\r\n",
      "  \"can_invite\": true\r\n",
      "}\r\n"
     ]
    }
   ],
   "source": [
    "$organizationId = '<enter organization id here>'\n",
    "\n",
    "$headers = @{}\n",
    "$headers.Add(\"Authorization\", \"Bearer $env:OpenAIKey\")\n",
    "\n",
    "$reqUrl = ('https://api.openai.com/v1/organizations/{0}/users' -f $organizationId)\n",
    "\n",
    "\n",
    "$response = Invoke-RestMethod -Uri $reqUrl -Method Get -Headers $headers  \n",
    "$response | Convertto-Json -Depth 10"
   ]
  },
  {
   "attachments": {},
   "cell_type": "markdown",
   "metadata": {
    "dotnet_interactive": {
     "language": "pwsh"
    },
    "polyglot_notebook": {
     "kernelName": "pwsh"
    }
   },
   "source": [
    "Get Usage Information"
   ]
  },
  {
   "cell_type": "code",
   "execution_count": 9,
   "metadata": {
    "dotnet_interactive": {
     "language": "pwsh"
    },
    "polyglot_notebook": {
     "kernelName": "pwsh"
    },
    "vscode": {
     "languageId": "polyglot-notebook"
    }
   },
   "outputs": [
    {
     "name": "stdout",
     "output_type": "stream",
     "text": [
      "\u001b[93mWARNING: Resulting JSON is truncated as serialization has exceeded the set depth of 2.\u001b[0m\n",
      "{\n",
      "  \"object\": \"list\",\n",
      "  \"daily_costs\": [\n",
      "    {\n",
      "      \"timestamp\": 1677628800.0,\n",
      "      \"line_items\": \"    \"\n",
      "    },\n",
      "    {\n",
      "      \"timestamp\": 1677715200.0,\n",
      "      \"line_items\": \"    \"\n",
      "    },\n",
      "    {\n",
      "      \"timestamp\": 1677801600.0,\n",
      "      \"line_items\": \"    \"\n",
      "    },\n",
      "    {\n",
      "      \"timestamp\": 1677888000.0,\n",
      "      \"line_items\": \"    \"\n",
      "    },\n",
      "    {\n",
      "      \"timestamp\": 1677974400.0,\n",
      "      \"line_items\": \"    \"\n",
      "    },\n",
      "    {\n",
      "      \"timestamp\": 1678060800.0,\n",
      "      \"line_items\": \"    \"\n",
      "    },\n",
      "    {\n",
      "      \"timestamp\": 1678147200.0,\n",
      "      \"line_items\": \"    \"\n",
      "    },\n",
      "    {\n",
      "      \"timestamp\": 1678233600.0,\n",
      "      \"line_items\": \"    \"\n",
      "    },\n",
      "    {\n",
      "      \"timestamp\": 1678320000.0,\n",
      "      \"line_items\": \"    \"\n",
      "    },\n",
      "    {\n",
      "      \"timestamp\": 1678406400.0,\n",
      "      \"line_items\": \"    \"\n",
      "    },\n",
      "    {\n",
      "      \"timestamp\": 1678492800.0,\n",
      "      \"line_items\": \"    \"\n",
      "    },\n",
      "    {\n",
      "      \"timestamp\": 1678579200.0,\n",
      "      \"line_items\": \"    \"\n",
      "    },\n",
      "    {\n",
      "      \"timestamp\": 1678665600.0,\n",
      "      \"line_items\": \"    \"\n",
      "    },\n",
      "    {\n",
      "      \"timestamp\": 1678752000.0,\n",
      "      \"line_items\": \"    \"\n",
      "    },\n",
      "    {\n",
      "      \"timestamp\": 1678838400.0,\n",
      "      \"line_items\": \"    \"\n",
      "    },\n",
      "    {\n",
      "      \"timestamp\": 1678924800.0,\n",
      "      \"line_items\": \"    \"\n",
      "    },\n",
      "    {\n",
      "      \"timestamp\": 1679011200.0,\n",
      "      \"line_items\": \"    \"\n",
      "    },\n",
      "    {\n",
      "      \"timestamp\": 1679097600.0,\n",
      "      \"line_items\": \"    \"\n",
      "    },\n",
      "    {\n",
      "      \"timestamp\": 1679184000.0,\n",
      "      \"line_items\": \"    \"\n",
      "    },\n",
      "    {\n",
      "      \"timestamp\": 1679270400.0,\n",
      "      \"line_items\": \"    \"\n",
      "    },\n",
      "    {\n",
      "      \"timestamp\": 1679356800.0,\n",
      "      \"line_items\": \"    \"\n",
      "    },\n",
      "    {\n",
      "      \"timestamp\": 1679443200.0,\n",
      "      \"line_items\": \"    \"\n",
      "    },\n",
      "    {\n",
      "      \"timestamp\": 1679529600.0,\n",
      "      \"line_items\": \"    \"\n",
      "    },\n",
      "    {\n",
      "      \"timestamp\": 1679616000.0,\n",
      "      \"line_items\": \"    \"\n",
      "    },\n",
      "    {\n",
      "      \"timestamp\": 1679702400.0,\n",
      "      \"line_items\": \"    \"\n",
      "    },\n",
      "    {\n",
      "      \"timestamp\": 1679788800.0,\n",
      "      \"line_items\": \"    \"\n",
      "    },\n",
      "    {\n",
      "      \"timestamp\": 1679875200.0,\n",
      "      \"line_items\": \"    \"\n",
      "    },\n",
      "    {\n",
      "      \"timestamp\": 1679961600.0,\n",
      "      \"line_items\": \"    \"\n",
      "    },\n",
      "    {\n",
      "      \"timestamp\": 1680048000.0,\n",
      "      \"line_items\": \"    \"\n",
      "    },\n",
      "    {\n",
      "      \"timestamp\": 1680134400.0,\n",
      "      \"line_items\": \"    \"\n",
      "    },\n",
      "    {\n",
      "      \"timestamp\": 1680220800.0,\n",
      "      \"line_items\": \"    \"\n",
      "    }\n",
      "  ],\n",
      "  \"total_usage\": 4.044\n",
      "}\n"
     ]
    }
   ],
   "source": [
    "$startDate = '2023-03-01'\n",
    "$endDate = '2023-04-01'\n",
    "\n",
    "$headers = @{}\n",
    "$headers.Add(\"Authorization\", \"Bearer $env:OpenAIKey\")\n",
    "\n",
    "$reqUrl = ('https://api.openai.com/dashboard/billing/usage?end_date={0}&start_date={1}' -f $endDate, $startDate)\n",
    "\n",
    "\n",
    "$response = Invoke-RestMethod -Uri $reqUrl -Method Get -Headers $headers  \n",
    "$response | ConvertTo-Json"
   ]
  },
  {
   "attachments": {},
   "cell_type": "markdown",
   "metadata": {
    "dotnet_interactive": {
     "language": "pwsh"
    },
    "polyglot_notebook": {
     "kernelName": "pwsh"
    }
   },
   "source": [
    "Get API keys"
   ]
  },
  {
   "cell_type": "code",
   "execution_count": 10,
   "metadata": {
    "dotnet_interactive": {
     "language": "pwsh"
    },
    "polyglot_notebook": {
     "kernelName": "pwsh"
    },
    "vscode": {
     "languageId": "polyglot-notebook"
    }
   },
   "outputs": [
    {
     "name": "stdout",
     "output_type": "stream",
     "text": [
      "{\r\n",
      "  \"object\": \"list\",\r\n",
      "  \"data\": [\r\n",
      "    {\r\n",
      "      \"sensitive_id\": \"sk-PdJi8***************************************aNqS\",\r\n",
      "      \"object\": \"api_key\",\r\n",
      "      \"created\": 1674553476,\r\n",
      "      \"last_use\": null,\r\n",
      "      \"publishable\": false\r\n",
      "    },\r\n",
      "    {\r\n",
      "      \"sensitive_id\": \"sk-AAc4D***************************************D0cD\",\r\n",
      "      \"object\": \"api_key\",\r\n",
      "      \"created\": 1673862388,\r\n",
      "      \"last_use\": 1677854062,\r\n",
      "      \"publishable\": false\r\n",
      "    }\r\n",
      "  ]\r\n",
      "}\r\n"
     ]
    }
   ],
   "source": [
    "$headers = @{}\n",
    "$headers.Add(\"Authorization\", \"Bearer $env:OpenAIKey\")\n",
    "\n",
    "$reqUrl = 'https://api.openai.com/dashboard/user/api_keys'\n",
    "\n",
    "\n",
    "$response = Invoke-RestMethod -Uri $reqUrl -Method Get -Headers $headers  \n",
    "$response | ConvertTo-Json"
   ]
  }
 ],
 "metadata": {
  "kernelspec": {
   "display_name": ".NET (C#)",
   "language": "C#",
   "name": ".net-csharp"
  },
  "polyglot_notebook": {
   "kernelInfo": {
    "defaultKernelName": "csharp",
    "items": [
     {
      "aliases": [
       "c#",
       "C#"
      ],
      "languageName": "C#",
      "name": "csharp"
     },
     {
      "aliases": [
       "frontend"
      ],
      "languageName": null,
      "name": "vscode"
     }
    ]
   }
  }
 },
 "nbformat": 4,
 "nbformat_minor": 2
}
